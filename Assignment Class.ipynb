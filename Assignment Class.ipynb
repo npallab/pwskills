{
 "cells": [
  {
   "cell_type": "code",
   "execution_count": 27,
   "id": "b8773dbe-e9ce-4542-9ee1-aa56008c3b00",
   "metadata": {},
   "outputs": [],
   "source": [
    "#Q1\n",
    "class vehicle:\n",
    "    def __init__(self,name_of_vehicle,max_speed,average_of_vehicle):\n",
    "        self.name_of_vehicle=name_of_vehicle\n",
    "        self.max_speed=max_speed\n",
    "        self.average_of_vehicle=average_of_vehicle\n",
    "\n"
   ]
  },
  {
   "cell_type": "code",
   "execution_count": 28,
   "id": "c82d3f5f-b808-4147-95c8-44a22ab4c256",
   "metadata": {},
   "outputs": [],
   "source": [
    "#Q2\n",
    "class car(vehicle):\n",
    "    def seating_capacity(self,capacity):\n",
    "        self.capacity=capacity\n",
    "        return self.capacity, self.name_of_vehicle\n",
    "    "
   ]
  },
  {
   "cell_type": "code",
   "execution_count": 29,
   "id": "04d3fcbf-6a5c-46cf-98c3-4304338b1cb7",
   "metadata": {},
   "outputs": [],
   "source": [
    "x=car(\"eon\",55,76,)\n"
   ]
  },
  {
   "cell_type": "code",
   "execution_count": 30,
   "id": "325f5cb2-abaf-42a7-9b37-d85239f5a015",
   "metadata": {},
   "outputs": [
    {
     "data": {
      "text/plain": [
       "(5, 'eon')"
      ]
     },
     "execution_count": 30,
     "metadata": {},
     "output_type": "execute_result"
    }
   ],
   "source": [
    "x.seating_capacity(5)"
   ]
  },
  {
   "cell_type": "code",
   "execution_count": null,
   "id": "ee5bf82d-2506-4b30-be7e-9b258de1e2bf",
   "metadata": {},
   "outputs": [],
   "source": [
    "#Q3\n",
    "\n",
    "Multiple inheritance is a feature in object-oriented programming languages like Python that allows a class to inherit attributes and methods from more than one base class. In multiple inheritance, a class can inherit from two or more parent classes, and it can inherit the attributes and methods of all its parent classes.\n",
    "\n",
    "Here's a Python code example that demonstrates multiple inheritance:\n",
    "\n",
    "python\n",
    "Copy code\n",
    "# Parent class 1\n",
    "class Animal:\n",
    "    def __init__(self, name):\n",
    "        self.name = name\n",
    "\n",
    "    def speak(self):\n",
    "        pass\n",
    "\n",
    "# Parent class 2\n",
    "class Flyable:\n",
    "    def fly(self):\n",
    "        pass\n",
    "\n",
    "# Child class inheriting from both Animal and Flyable\n",
    "class Bird(Animal, Flyable):\n",
    "    def speak(self):\n",
    "        return f\"{self.name} chirps\"\n",
    "\n",
    "# Child class inheriting only from Animal\n",
    "class Dog(Animal):\n",
    "    def speak(self):\n",
    "        return f\"{self.name} barks\"\n",
    "\n",
    "# Child class inheriting only from Flyable\n",
    "class Airplane(Flyable):\n",
    "    pass\n",
    "\n",
    "# Creating instances of the classes\n",
    "bird = Bird(\"Sparrow\")\n",
    "dog = Dog(\"Fido\")\n",
    "airplane = Airplane()\n",
    "\n",
    "# Demonstrating multiple inheritance\n",
    "print(bird.speak())  # Output: Sparrow chirps\n",
    "bird.fly()  # Since Bird inherits from Flyable, it can also fly\n",
    "\n",
    "print(dog.speak())  # Output: Fido barks\n",
    "\n",
    "# Airplane doesn't inherit 'speak' from any class, but it inherits 'fly' from Flyable\n",
    "airplane.fly()\n",
    "\n",
    "\n",
    "#Q4\n",
    "In Python, getter and setter methods are used to control access to an object's attributes. They allow you to encapsulate the \n",
    "internal state of an object and provide controlled access to that state. Getter methods are used to retrieve the value of an attribute,\n",
    "and setter methods are used to set or modify the value of an attribute, often with additional validation or logic.\n",
    "\n",
    "#Q5\n",
    "\n",
    "Method overriding is a feature in object-oriented programming that allows a subclass to provide a specific implementation of a method that is already defined in its superclass. When a subclass overrides a method, it provides its own implementation of the method, which is used instead of the superclass's implementation when the\n",
    "method is called on an object of the subclass."
   ]
  }
 ],
 "metadata": {
  "kernelspec": {
   "display_name": "Python 3 (ipykernel)",
   "language": "python",
   "name": "python3"
  },
  "language_info": {
   "codemirror_mode": {
    "name": "ipython",
    "version": 3
   },
   "file_extension": ".py",
   "mimetype": "text/x-python",
   "name": "python",
   "nbconvert_exporter": "python",
   "pygments_lexer": "ipython3",
   "version": "3.10.8"
  }
 },
 "nbformat": 4,
 "nbformat_minor": 5
}
