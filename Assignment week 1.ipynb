{
 "cells": [
  {
   "cell_type": "code",
   "execution_count": 2,
   "id": "23bdb642-556d-4b19-9c4a-137c41005375",
   "metadata": {},
   "outputs": [
    {
     "ename": "SyntaxError",
     "evalue": "invalid syntax (3873519874.py, line 2)",
     "output_type": "error",
     "traceback": [
      "\u001b[0;36m  Cell \u001b[0;32mIn[2], line 2\u001b[0;36m\u001b[0m\n\u001b[0;31m    Q1. Create one variable containing following type of data:\u001b[0m\n\u001b[0m               ^\u001b[0m\n\u001b[0;31mSyntaxError\u001b[0m\u001b[0;31m:\u001b[0m invalid syntax\n"
     ]
    }
   ],
   "source": [
    "\n",
    "#: Q1. Create one variable containing following type of data:\n",
    "#(i) string\n",
    "#(ii) list\n",
    "#(iii) float\n",
    "#(iv) tuple\n"
   ]
  },
  {
   "cell_type": "code",
   "execution_count": 3,
   "id": "e6fe39c3-8306-46a3-b797-cf63ddfe1e3a",
   "metadata": {},
   "outputs": [],
   "source": [
    "str=\"Test\"\n",
    "lst=[1,2,3,3.45,\"listtest\"]\n",
    "float=3.54\n",
    "tuplem=(\"test1\",\"test2\",\"test3\")"
   ]
  },
  {
   "cell_type": "code",
   "execution_count": 4,
   "id": "7262dd9b-86c4-4a79-b4b0-e9a426514e1d",
   "metadata": {},
   "outputs": [
    {
     "ename": "SyntaxError",
     "evalue": "invalid character '‘' (U+2018) (1410005797.py, line 2)",
     "output_type": "error",
     "traceback": [
      "\u001b[0;36m  Cell \u001b[0;32mIn[4], line 2\u001b[0;36m\u001b[0m\n\u001b[0;31m    (i) var1 = ‘ ‘\u001b[0m\n\u001b[0m               ^\u001b[0m\n\u001b[0;31mSyntaxError\u001b[0m\u001b[0;31m:\u001b[0m invalid character '‘' (U+2018)\n"
     ]
    }
   ],
   "source": [
    "#Q2. Given are some following variables containing data:\n",
    "#(i) var1 = ‘ ‘\n",
    "#(ii) var2 = ‘[ DS , ML , Python]’\n",
    "#(iii) var3 = [ ‘DS’ , ’ML’ , ‘Python’ ]\n",
    "#(iv) var4 = 1."
   ]
  },
  {
   "cell_type": "code",
   "execution_count": 5,
   "id": "511ea444-2015-448a-af45-294850dd27f3",
   "metadata": {},
   "outputs": [],
   "source": [
    "var1=' '"
   ]
  },
  {
   "cell_type": "code",
   "execution_count": 6,
   "id": "ec76274a-2ae9-42f9-b30e-edd8bb7db64a",
   "metadata": {},
   "outputs": [
    {
     "data": {
      "text/plain": [
       "str"
      ]
     },
     "execution_count": 6,
     "metadata": {},
     "output_type": "execute_result"
    }
   ],
   "source": [
    "type(var1)"
   ]
  },
  {
   "cell_type": "code",
   "execution_count": 7,
   "id": "c6e1cd43-793e-4e85-bdaf-77ead760c173",
   "metadata": {},
   "outputs": [],
   "source": [
    "var2='[DS, ML, Python]'"
   ]
  },
  {
   "cell_type": "code",
   "execution_count": 8,
   "id": "08e60f39-8350-462c-90c3-8c627c8c26e2",
   "metadata": {},
   "outputs": [
    {
     "data": {
      "text/plain": [
       "str"
      ]
     },
     "execution_count": 8,
     "metadata": {},
     "output_type": "execute_result"
    }
   ],
   "source": [
    "type(var2)"
   ]
  },
  {
   "cell_type": "code",
   "execution_count": 13,
   "id": "95db02b0-aa79-40f4-923e-76d9042935be",
   "metadata": {},
   "outputs": [],
   "source": [
    "var3=[\"DS\",\"ML\",\"Python\"]"
   ]
  },
  {
   "cell_type": "code",
   "execution_count": 14,
   "id": "de930af4-c88f-4833-8e34-f50852a92fea",
   "metadata": {},
   "outputs": [
    {
     "data": {
      "text/plain": [
       "list"
      ]
     },
     "execution_count": 14,
     "metadata": {},
     "output_type": "execute_result"
    }
   ],
   "source": [
    "type(var3)"
   ]
  },
  {
   "cell_type": "code",
   "execution_count": 15,
   "id": "58bd4b80-952b-4ae4-a0bc-966658c19b2c",
   "metadata": {},
   "outputs": [],
   "source": [
    "var4=1"
   ]
  },
  {
   "cell_type": "code",
   "execution_count": 16,
   "id": "b1bd6366-9b72-4c7d-9b54-d1b2775acf4f",
   "metadata": {},
   "outputs": [
    {
     "data": {
      "text/plain": [
       "int"
      ]
     },
     "execution_count": 16,
     "metadata": {},
     "output_type": "execute_result"
    }
   ],
   "source": [
    "type(var4)"
   ]
  },
  {
   "cell_type": "code",
   "execution_count": 17,
   "id": "a6faaa9f-0dfb-41bc-945a-ccb875b28e0f",
   "metadata": {},
   "outputs": [],
   "source": [
    "#Q3. Explain the use of the following operators using an example:\n",
    "#(i) /\n",
    "#(ii) %\n",
    "#(iii) //\n",
    "#(iv) **"
   ]
  },
  {
   "cell_type": "code",
   "execution_count": 18,
   "id": "f2dc07fc-52c4-4a4e-a621-b6703983b2a4",
   "metadata": {},
   "outputs": [
    {
     "data": {
      "text/plain": [
       "0.6666666666666666"
      ]
     },
     "execution_count": 18,
     "metadata": {},
     "output_type": "execute_result"
    }
   ],
   "source": [
    "# \"/\" operator divides two values\n",
    "2/3"
   ]
  },
  {
   "cell_type": "code",
   "execution_count": 19,
   "id": "29fafc18-4cc1-470b-9538-abe97226efad",
   "metadata": {},
   "outputs": [
    {
     "data": {
      "text/plain": [
       "2"
      ]
     },
     "execution_count": 19,
     "metadata": {},
     "output_type": "execute_result"
    }
   ],
   "source": [
    "# % is modulo operator, gives the reminder of two number division\n",
    "2%3"
   ]
  },
  {
   "cell_type": "code",
   "execution_count": 20,
   "id": "707a96fd-f2cf-4d81-8d30-0ce2dac9abb3",
   "metadata": {},
   "outputs": [
    {
     "data": {
      "text/plain": [
       "8"
      ]
     },
     "execution_count": 20,
     "metadata": {},
     "output_type": "execute_result"
    }
   ],
   "source": [
    "# ** is exponent , we can  raise to power using it \n",
    "\n",
    "2**3"
   ]
  },
  {
   "cell_type": "code",
   "execution_count": 21,
   "id": "a6310a3a-cd5d-4d69-8b33-b0397956abb9",
   "metadata": {},
   "outputs": [
    {
     "data": {
      "text/plain": [
       "0"
      ]
     },
     "execution_count": 21,
     "metadata": {},
     "output_type": "execute_result"
    }
   ],
   "source": [
    "# // is floor division, it will round the result of division to nearest whole number\n",
    "\n",
    "2//3"
   ]
  },
  {
   "cell_type": "code",
   "execution_count": 22,
   "id": "5fc56b4a-c877-44c4-8e4d-e714b8d00b65",
   "metadata": {},
   "outputs": [],
   "source": [
    "#Q4. Create a list of length 10 of your choice containing multiple types of data. Using for loop print the element and its data type."
   ]
  },
  {
   "cell_type": "code",
   "execution_count": 23,
   "id": "198af651-fde1-435d-b3d6-985978e16a8a",
   "metadata": {},
   "outputs": [
    {
     "name": "stdout",
     "output_type": "stream",
     "text": [
      "Element: 42 | Data Type: <class 'int'>\n",
      "Element: Hello, world! | Data Type: <class 'str'>\n",
      "Element: 3.14 | Data Type: <class 'float'>\n",
      "Element: True | Data Type: <class 'bool'>\n",
      "Element: [1, 2, 3] | Data Type: <class 'list'>\n",
      "Element: {'a': 1, 'b': 2} | Data Type: <class 'dict'>\n",
      "Element: (10, 20) | Data Type: <class 'tuple'>\n",
      "Element: None | Data Type: <class 'NoneType'>\n",
      "Element: (5+2j) | Data Type: <class 'complex'>\n",
      "Element: b'bytes' | Data Type: <class 'bytes'>\n"
     ]
    }
   ],
   "source": [
    "data_list = [42, \"Hello, world!\", 3.14, True, [1, 2, 3], {'a': 1, 'b': 2}, (10, 20), None, 5 + 2j, b'bytes']\n",
    "for item in data_list:\n",
    "    print(f\"Element: {item} | Data Type: {type(item)}\")\n"
   ]
  },
  {
   "cell_type": "code",
   "execution_count": 25,
   "id": "d21a908f-b30c-4c40-9818-2c42288ab944",
   "metadata": {},
   "outputs": [
    {
     "name": "stdin",
     "output_type": "stream",
     "text": [
      "Enter the number A:  4\n",
      "Enter the number B:  5\n"
     ]
    },
    {
     "name": "stdout",
     "output_type": "stream",
     "text": [
      "4 is not divisible by 5.\n"
     ]
    }
   ],
   "source": [
    "#Q4\n",
    "# Taking input for numbers A and B\n",
    "A = int(input(\"Enter the number A: \"))\n",
    "B = int(input(\"Enter the number B: \"))\n",
    "\n",
    "# Initialize a count to keep track of how many times A is divisible by B\n",
    "count = 0\n",
    "\n",
    "# Verify if A is divisible by B and calculate the count\n",
    "while A % B == 0:\n",
    "    A = A // B  # Integer division\n",
    "    count += 1\n",
    "\n",
    "# Print the results\n",
    "if count > 0:\n",
    "    print(f\"{A} is divisible by {B} exactly {count} times.\")\n",
    "else:\n",
    "    print(f\"{A} is not divisible by {B}.\")\n",
    "\n",
    "\n",
    "\n",
    "\n",
    "\n"
   ]
  },
  {
   "cell_type": "code",
   "execution_count": null,
   "id": "12118e3b-62ae-45a1-a6ff-c6c03f923b0a",
   "metadata": {},
   "outputs": [],
   "source": []
  }
 ],
 "metadata": {
  "kernelspec": {
   "display_name": "Python 3 (ipykernel)",
   "language": "python",
   "name": "python3"
  },
  "language_info": {
   "codemirror_mode": {
    "name": "ipython",
    "version": 3
   },
   "file_extension": ".py",
   "mimetype": "text/x-python",
   "name": "python",
   "nbconvert_exporter": "python",
   "pygments_lexer": "ipython3",
   "version": "3.10.8"
  }
 },
 "nbformat": 4,
 "nbformat_minor": 5
}
